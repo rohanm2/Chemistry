{
 "cells": [
  {
   "cell_type": "code",
   "execution_count": 1,
   "metadata": {},
   "outputs": [
    {
     "name": "stdout",
     "output_type": "stream",
     "text": [
      "\n",
      "Enter the number of degrees of unsaturation:\n",
      "2\n",
      "\n",
      "Possibilities:\n",
      "2 rings, 0 double bonds, 0 triple bonds\n",
      "1 rings, 1 double bonds, 0 triple bonds\n",
      "1 rings, 1 double bonds, 0 triple bonds\n",
      "0 rings, 2 double bonds, 0 triple bonds\n",
      "0 rings, 0 double bonds, 1 triple bonds\n"
     ]
    }
   ],
   "source": [
    "def calcUnsat(soFar): \n",
    "    degrees = soFar[0] * 1 + soFar[1] * 1 + soFar[2] * 2 \n",
    "    return degrees \n",
    "\n",
    "def display_soFar(soFar): \n",
    "    print(str(soFar[0]) + \" rings, \" + str(soFar[1]) + \" double bonds, \" + str(soFar[2]) + \" triple bonds\") \n",
    "\n",
    "def unsaturationPossibilitiesHelper(n, soFar): \n",
    "    if(calcUnsat(soFar) == n): \n",
    "        display_soFar(soFar) \n",
    "    if(calcUnsat(soFar) > n): \n",
    "        return \n",
    "    for i in range(len(soFar)): \n",
    "        soFar[i] += 1 \n",
    "        unsaturationPossibilitiesHelper(n, soFar) \n",
    "        soFar[i] -= 1 #Had to add explicit unchoose step \n",
    "\n",
    "\n",
    "def unsaturationPossibilities(n): \n",
    "    soFar = [0, 0, 0] \n",
    "    unsaturationPossibilitiesHelper(n, soFar) \n",
    "\n",
    "def main(): \n",
    "    print(\"\\nEnter the number of degrees of unsaturation:\")\n",
    "    degrees = int(input()) \n",
    "    print(\"\\nPossibilities:\")\n",
    "    unsaturationPossibilities(degrees) \n",
    "\n",
    "if __name__ == \"__main__\":\n",
    "    main()"
   ]
  },
  {
   "cell_type": "code",
   "execution_count": null,
   "metadata": {},
   "outputs": [],
   "source": []
  }
 ],
 "metadata": {
  "kernelspec": {
   "display_name": "Python 3",
   "language": "python",
   "name": "python3"
  },
  "language_info": {
   "codemirror_mode": {
    "name": "ipython",
    "version": 3
   },
   "file_extension": ".py",
   "mimetype": "text/x-python",
   "name": "python",
   "nbconvert_exporter": "python",
   "pygments_lexer": "ipython3",
   "version": "3.7.1"
  }
 },
 "nbformat": 4,
 "nbformat_minor": 2
}
